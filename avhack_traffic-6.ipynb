{
 "cells": [
  {
   "cell_type": "code",
   "execution_count": 45,
   "metadata": {},
   "outputs": [],
   "source": [
    "import pandas as pd\n",
    "import numpy as np\n",
    "import seaborn as sns\n",
    "import matplotlib.pyplot as plt\n",
    "%matplotlib inline\n",
    "import sklearn\n",
    "import xgboost as xgb\n",
    "import re\n",
    "import time\n",
    "from BusinessHours import BusinessHours as bh\n",
    "from pandas.tseries.holiday import USFederalHolidayCalendar as calendar\n",
    "\n",
    "from xgboost import XGBRegressor\n",
    "from sklearn.ensemble import RandomForestRegressor, GradientBoostingRegressor\n",
    "from sklearn.linear_model import Lasso, ElasticNet, Ridge, LinearRegression\n",
    "from sklearn.kernel_ridge import KernelRidge\n",
    "from sklearn.model_selection import GridSearchCV, RandomizedSearchCV, cross_val_score, train_test_split\n",
    "from sklearn.feature_selection import RFECV\n",
    "from sklearn.preprocessing import LabelEncoder, OneHotEncoder, StandardScaler, Imputer\n",
    "from sklearn.metrics import make_scorer \n",
    "from sklearn.base import BaseEstimator, RegressorMixin\n",
    "from sklearn.svm import SVR\n",
    "from sklearn import metrics"
   ]
  },
  {
   "cell_type": "code",
   "execution_count": 46,
   "metadata": {},
   "outputs": [],
   "source": [
    "df = pd.read_csv('train_aWnotuB.csv')\n",
    "df_test = pd.read_csv('test_BdBKkAj.csv')"
   ]
  },
  {
   "cell_type": "code",
   "execution_count": 47,
   "metadata": {},
   "outputs": [],
   "source": [
    "#df_test.groupby('Junction').count()\n",
    "#df.Vehicles.\n",
    "#df.describe()"
   ]
  },
  {
   "cell_type": "code",
   "execution_count": 48,
   "metadata": {},
   "outputs": [],
   "source": [
    "#df = df_train[df.columns.difference(['ID'])]"
   ]
  },
  {
   "cell_type": "code",
   "execution_count": 49,
   "metadata": {},
   "outputs": [],
   "source": [
    "def add_date_features(df):\n",
    "    df['date'] = pd.to_datetime(df['DateTime'])\n",
    "    dti = pd.DatetimeIndex(df['date'])\n",
    "    holidays = calendar().holidays(start=dti.min(), end=dti.max())\n",
    "\n",
    "    df['year'] = dti.year\n",
    "    df['quarter'] = dti.quarter\n",
    "    df['month'] = dti.month\n",
    "    df['week'] = dti.week\n",
    "    df['weekofyear'] = dti.weekofyear\n",
    "    df['day'] = dti.day\n",
    "    df['dayofweek'] = dti.dayofweek\n",
    "    df['dayofyear'] = dti.dayofyear\n",
    "    df['hour'] = dti.hour\n",
    "    df['minofday'] = dti.hour*60+dti.minute\n",
    "    df['bhour'] = df['hour']\n",
    "    df['bhour'] = df['bhour'].replace(range(1,8), 0).replace(range(8,19), 1).replace(range(19,24), 0)\n",
    "    df['holiday'] = dti.isin(holidays)\n",
    "    df['holiday'] = df['holiday'].map({False:0, True:1})\n",
    "    \n",
    "add_date_features(df)\n",
    "add_date_features(df_test)\n",
    "\n",
    "# df['year'], df['month'], df['week'], df['day'], df['dayofweek'], df['hour'], df['minofday'] = \\\n",
    "# df['date'].dt.year, df['date'].dt.month, df['date'].dt.week, df['date'].dt.day, df['date'].dt.dayofweek, df['date'].dt.hour, df['date'].dt.hour*60+df['date'].dt.minute"
   ]
  },
  {
   "cell_type": "code",
   "execution_count": 50,
   "metadata": {},
   "outputs": [
    {
     "data": {
      "text/plain": [
       "Int64Index([6, 6, 6, 6, 6, 6, 6, 6, 6, 6,\n",
       "            ...\n",
       "            4, 4, 4, 4, 4, 4, 4, 4, 4, 4],\n",
       "           dtype='int64', name='date', length=48120)"
      ]
     },
     "execution_count": 50,
     "metadata": {},
     "output_type": "execute_result"
    }
   ],
   "source": [
    "dti = pd.DatetimeIndex(df['date'])\n",
    "dti.dayofweek"
   ]
  },
  {
   "cell_type": "code",
   "execution_count": 51,
   "metadata": {},
   "outputs": [],
   "source": [
    "#df.date = df.DateTime.apply(lambda x: time.mktime(pd.Timestamp(x).to_datetime().timetuple()))"
   ]
  },
  {
   "cell_type": "code",
   "execution_count": 52,
   "metadata": {},
   "outputs": [],
   "source": [
    "# from tsfresh import extract_relevant_features\n",
    "# extracted_features = extract_relevant_features(df, df.Vehicles, column_sort=\"DateTime\", column_id=\"Junction\", column_value=\"Vehicles\", n_jobs=4)"
   ]
  },
  {
   "cell_type": "code",
   "execution_count": 53,
   "metadata": {},
   "outputs": [],
   "source": [
    "#vehicles"
   ]
  },
  {
   "cell_type": "code",
   "execution_count": 54,
   "metadata": {},
   "outputs": [],
   "source": [
    "# #temps = DataFrame(df.Vehicles)\n",
    "# # dataframe = concat([temps.shift(1), temps], axis=1)\n",
    "# # dataframe.columns = ['t-1', 't+1']\n",
    "# def lag(df):\n",
    "#     vehicles = df.Vehicles\n",
    "#     dataframe = pd.concat([vehicles.shift(3), vehicles.shift(2), vehicles.shift(1), vehicles], axis=1)\n",
    "#     dataframe.columns = ['t-3', 't-2', 't-1', 't+1']\n",
    "#     print(dataframe.head(5))\n",
    "# vehicles = df.groupby('Junction').apply(lag)"
   ]
  },
  {
   "cell_type": "code",
   "execution_count": 55,
   "metadata": {},
   "outputs": [],
   "source": [
    "def window_features(df):\n",
    "    width = 3\n",
    "    v = df['Vehicles']\n",
    "    shifted = v.shift(width - 1)\n",
    "    window = shifted.rolling(window=width)\n",
    "    exp = v.expanding()\n",
    "    dataframe = pd.concat([window.min(), window.mean(), window.max(), exp.min(), exp.mean(), exp.max(), v], axis=1)\n",
    "    dataframe.columns = ['s_min', 's_mean', 's_max', 'e_min', 'e_mean', 'e_max', 's_t+1']\n",
    "    #print(dataframe.head(5))\n",
    "    return dataframe\n",
    "#window(df)\n",
    "\n",
    "def merge_features(df, vehicles):\n",
    "    df['s_min'] = vehicles['s_min']\n",
    "    df['s_mean'] = vehicles['s_mean']\n",
    "    df['s_max'] = vehicles['s_max']\n",
    "    df['e_min'] = vehicles['e_min']\n",
    "    df['e_mean'] = vehicles['e_mean']\n",
    "    df['e_max'] = vehicles['e_max']\n",
    "\n",
    "#merge_features(df, df.groupby('Junction').apply(window_features))\n",
    "#merge_features(df_test, df_test.groupby('Junction').apply(window_features))\n",
    "\n",
    "#vehicles.head()"
   ]
  },
  {
   "cell_type": "code",
   "execution_count": 56,
   "metadata": {},
   "outputs": [],
   "source": [
    "#df_test.ix[[len(df_test)-2]]\n",
    "\n",
    "# out = df_test.groupby('Junction').nth(1).reset_index()\n",
    "# for j in range(2, 5):  \n",
    "#     out = out.append(df_test.groupby('Junction').nth(j).reset_index())"
   ]
  },
  {
   "cell_type": "code",
   "execution_count": 57,
   "metadata": {},
   "outputs": [],
   "source": [
    "# df = df.append(out)"
   ]
  },
  {
   "cell_type": "code",
   "execution_count": 58,
   "metadata": {},
   "outputs": [],
   "source": [
    "#n = len(df)\n",
    "# inn = df.groupby('Junction').nth(-1).reset_index()\n",
    "# for j in range(2, 5):  \n",
    "#     inn = out.append(df_test.groupby('Junction').nth(-j).reset_index())"
   ]
  },
  {
   "cell_type": "code",
   "execution_count": 59,
   "metadata": {},
   "outputs": [],
   "source": [
    "#df.groupby('Junction').size()\n",
    "#df.groupby('Junction').nth(-1).reset_index()\n",
    "#inn\n"
   ]
  },
  {
   "cell_type": "code",
   "execution_count": 60,
   "metadata": {},
   "outputs": [
    {
     "data": {
      "text/plain": [
       "<matplotlib.axes._subplots.AxesSubplot at 0x7f8000b7a0b8>"
      ]
     },
     "execution_count": 60,
     "metadata": {},
     "output_type": "execute_result"
    },
    {
     "data": {
      "image/png": "[encoded data removed]",
      "text/plain": [
       "<matplotlib.figure.Figure at 0x7f8000b75978>"
      ]
     },
     "metadata": {},
     "output_type": "display_data"
    }
   ],
   "source": [
    "df[df['Junction']==3][['date', 'Vehicles']].plot()"
   ]
  },
  {
   "cell_type": "code",
   "execution_count": 61,
   "metadata": {},
   "outputs": [
    {
     "data": {
      "text/plain": [
       "(array([  1.13190000e+04,   2.87900000e+03,   2.79000000e+02,\n",
       "          6.30000000e+01,   2.60000000e+01,   1.10000000e+01,\n",
       "          9.00000000e+00,   3.00000000e+00,   1.00000000e+00,\n",
       "          2.00000000e+00]),\n",
       " array([   1. ,   18.9,   36.8,   54.7,   72.6,   90.5,  108.4,  126.3,\n",
       "         144.2,  162.1,  180. ]),\n",
       " <a list of 10 Patch objects>)"
      ]
     },
     "execution_count": 61,
     "metadata": {},
     "output_type": "execute_result"
    },
    {
     "data": {
      "image/png": "[encoded data removed]",
      "text/plain": [
       "<matplotlib.figure.Figure at 0x7f7ffc5a3128>"
      ]
     },
     "metadata": {},
     "output_type": "display_data"
    }
   ],
   "source": [
    "plt.hist(df[df['Junction']==3]['Vehicles'])"
   ]
  },
  {
   "cell_type": "code",
   "execution_count": 62,
   "metadata": {},
   "outputs": [],
   "source": [
    "# corrmat = df.corr()\n",
    "# f, ax = plt.subplots(figsize=(12, 9))\n",
    "# sns.heatmap(corrmat, vmax=.8, square=True);"
   ]
  },
  {
   "cell_type": "code",
   "execution_count": 63,
   "metadata": {},
   "outputs": [],
   "source": [
    "\n",
    "# sns.set()\n",
    "# sns.pairplot(df)\n",
    "# plt.show();"
   ]
  },
  {
   "cell_type": "code",
   "execution_count": 64,
   "metadata": {},
   "outputs": [],
   "source": [
    "X_test_Id = df_test[['ID']]\n",
    "df.drop(['ID', 'DateTime', 'date'], inplace=True, axis=1)\n",
    "df_test.drop(['ID', 'DateTime', 'date'], inplace=True, axis=1)\n",
    "y_train = df.Vehicles\n",
    "X_train = df.drop('Vehicles', axis=1)\n",
    "\n",
    "# X_val = val.drop('Vehicles', axis=1)\n",
    "# y_val = val.Vehicles.values\n",
    "X_test = df_test\n",
    "num_cols = list(X_train.columns.get_values())\n",
    "num_cols.remove('Junction')\n",
    "cat_cols = ['Junction']"
   ]
  },
  {
   "cell_type": "code",
   "execution_count": 65,
   "metadata": {},
   "outputs": [],
   "source": [
    "#df.Vehicles"
   ]
  },
  {
   "cell_type": "markdown",
   "metadata": {},
   "source": [
    "### Check missing values"
   ]
  },
  {
   "cell_type": "code",
   "execution_count": 66,
   "metadata": {},
   "outputs": [
    {
     "data": {
      "text/plain": [
       "holiday       0\n",
       "day           0\n",
       "bhour         0\n",
       "weekofyear    0\n",
       "year          0\n",
       "dayofweek     0\n",
       "minofday      0\n",
       "Junction=1    0\n",
       "Junction=2    0\n",
       "Junction=3    0\n",
       "Junction=4    0\n",
       "Vehicles      0\n",
       "dtype: int64"
      ]
     },
     "execution_count": 66,
     "metadata": {},
     "output_type": "execute_result"
    }
   ],
   "source": [
    "pd.isnull(train).sum()"
   ]
  },
  {
   "cell_type": "code",
   "execution_count": 67,
   "metadata": {},
   "outputs": [],
   "source": [
    "from collections import defaultdict\n",
    "d = defaultdict(list)\n",
    "X_train[cat_cols].apply(lambda x: d[x.name].append(x.value_counts().idxmax())) \n",
    "ohe = OneHotEncoder().fit(X_train[cat_cols])\n",
    "#cols = [cat_cols[i] + '=' + str(d[cat_cols[i]].classes_[j]) for i in range(0,len(cat_cols)) for j in range(0,ohe.n_values_[i])]\n",
    "cols = [cat_cols[i] + '=' + str(j) for i in range(0,len(cat_cols)) for j in range(1,ohe.n_values_[i])]\n",
    "\n",
    "X_train_cat = pd.DataFrame(ohe.transform(X_train[cat_cols]).toarray(), columns=cols)\n",
    "#X_val_cat = pd.DataFrame(ohe.transform(X_val[cat_cols]).toarray(), columns=cols)\n",
    "X_test_cat = pd.DataFrame(ohe.transform(X_test[cat_cols]).toarray(), columns=cols)\n",
    "\n",
    "# from sklearn.feature_extraction import DictVectorizer\n",
    "# vec = DictVectorizer().fit(X_train[cat_cols].to_dict('records'))\n",
    "# X_train_cat = pd.DataFrame(vec.transform(X_train[cat_cols].to_dict('records')).toarray(), columns=vec.get_feature_names())\n",
    "# X_val_cat = pd.DataFrame(vec.transform(X_val[cat_cols].to_dict('records')).toarray(), columns=vec.get_feature_names())\n",
    "# X_test_cat = pd.DataFrame(vec.transform(X_test[cat_cols].to_dict('records')).toarray(), columns=vec.get_feature_names())"
   ]
  },
  {
   "cell_type": "code",
   "execution_count": 68,
   "metadata": {},
   "outputs": [],
   "source": [
    "# imp_num = Imputer(missing_values='NaN', strategy='mean', axis=0).fit(X_train[num_cols])\n",
    "# X_train[num_cols] = imp_num.transform(X_train[num_cols])\n",
    "# X_val[num_cols] = imp_num.transform(X_val[num_cols])\n",
    "# X_test[num_cols] = imp_num.transform(X_test[num_cols])\n",
    "#X_train.dropna(inplace=True)\n",
    "#X_val.dropna(inplace=True)\n",
    "dropix = pd.isnull(X_train).any(1).nonzero()[0]\n",
    "X_train.drop(dropix, inplace=True)\n",
    "y_train.drop(dropix, inplace=True)"
   ]
  },
  {
   "cell_type": "code",
   "execution_count": 69,
   "metadata": {},
   "outputs": [
    {
     "data": {
      "text/plain": [
       "Index(['year', 'quarter', 'month', 'week', 'weekofyear', 'day', 'dayofweek',\n",
       "       'dayofyear', 'hour', 'minofday', 'bhour', 'holiday'],\n",
       "      dtype='object')"
      ]
     },
     "execution_count": 69,
     "metadata": {},
     "output_type": "execute_result"
    }
   ],
   "source": [
    "X_train[num_cols].columns"
   ]
  },
  {
   "cell_type": "code",
   "execution_count": 70,
   "metadata": {},
   "outputs": [
    {
     "data": {
      "image/png": "[encoded data removed]",
      "text/plain": [
       "<matplotlib.figure.Figure at 0x7f7ffc6d1b00>"
      ]
     },
     "metadata": {},
     "output_type": "display_data"
    },
    {
     "data": {
      "text/plain": [
       "[('quarter', 'month'),\n",
       " ('quarter', 'week'),\n",
       " ('quarter', 'weekofyear'),\n",
       " ('quarter', 'dayofyear'),\n",
       " ('month', 'week'),\n",
       " ('month', 'weekofyear'),\n",
       " ('month', 'dayofyear'),\n",
       " ('week', 'weekofyear'),\n",
       " ('week', 'dayofyear'),\n",
       " ('weekofyear', 'dayofyear'),\n",
       " ('hour', 'minofday')]"
      ]
     },
     "execution_count": 70,
     "metadata": {},
     "output_type": "execute_result"
    }
   ],
   "source": [
    "corr = X_train.corr()\n",
    "#print(corr)\n",
    "fig, ax = plt.subplots(figsize=(20, 20))\n",
    "ax.matshow(corr)\n",
    "plt.xticks(range(len(corr.columns)), corr.columns);\n",
    "plt.yticks(range(len(corr.columns)), corr.columns);\n",
    "plt.show()\n",
    "corr_matrix = corr.abs()\n",
    "high_corr_var=np.where(corr_matrix>0.9)\n",
    "[(corr_matrix.index[x],corr_matrix.columns[y]) for x,y in zip(*high_corr_var) if x!=y and x<y]"
   ]
  },
  {
   "cell_type": "code",
   "execution_count": null,
   "metadata": {},
   "outputs": [],
   "source": [
    "# X_train = X_train.drop(['quarter', 'month', 'week', 'dayofyear', 'hour'], axis=1) #'s_min', 's_max'\n",
    "# X_test = X_test.drop(['quarter', 'month', 'week', 'dayofyear', 'hour'], axis=1)"
   ]
  },
  {
   "cell_type": "code",
   "execution_count": null,
   "metadata": {},
   "outputs": [],
   "source": [
    "#num_cols = list(set(num_cols)-set(['quarter', 'month', 'week', 'dayofyear', 'hour', 's_min', 's_max']))\n",
    "from sklearn.feature_selection import RFE\n",
    "from sklearn.svm import SVC\n",
    "\n",
    "svc = SVC(kernel=\"linear\") #, C=1, loss='epsilon_insensitive'\n",
    "rfe = RFE(estimator=svc, n_features_to_select=10, step=1).fit(X_train, y_train)\n",
    "rfe_cols = X_train.columns[rfe.get_support()]"
   ]
  },
  {
   "cell_type": "code",
   "execution_count": null,
   "metadata": {},
   "outputs": [],
   "source": [
    "from sklearn.preprocessing import StandardScaler\n",
    "scaler = StandardScaler().fit(X_train[num_cols])\n",
    "X_train_num = pd.DataFrame(scaler.transform(X_train[num_cols]), columns=num_cols)\n",
    "#X_val_num = pd.DataFrame(scaler.transform(X_val[num_cols]), columns=num_cols)\n",
    "X_test_num = pd.DataFrame(scaler.transform(X_test[num_cols]), columns=num_cols)"
   ]
  },
  {
   "cell_type": "code",
   "execution_count": null,
   "metadata": {},
   "outputs": [],
   "source": [
    "X_train.shape"
   ]
  },
  {
   "cell_type": "code",
   "execution_count": null,
   "metadata": {},
   "outputs": [],
   "source": [
    "X_train = X_train_num.join(X_train_cat)\n",
    "X_test = X_test_num.join(X_test_cat)\n",
    "#X_val = X_val_num.join(X_val_cat)\n",
    "X_train['Vehicles'] = y_train\n",
    "X_train_full = X_train"
   ]
  },
  {
   "cell_type": "code",
   "execution_count": null,
   "metadata": {},
   "outputs": [],
   "source": [
    "X_train_full.dropna(inplace=True)\n",
    "train, val = np.split(X_train_full.sample(frac=1), [int(.99*len(df))])\n",
    "X_train = train.drop('Vehicles', axis=1)\n",
    "y_train = train.Vehicles.values\n",
    "X_val = val.drop('Vehicles', axis=1)\n",
    "y_val = val.Vehicles.values"
   ]
  },
  {
   "cell_type": "code",
   "execution_count": null,
   "metadata": {},
   "outputs": [],
   "source": [
    "# model = LinearRegression().fit(X_train, y_train)\n",
    "# model = XGBRegressor().fit(X_train, y_train)"
   ]
  },
  {
   "cell_type": "code",
   "execution_count": null,
   "metadata": {},
   "outputs": [],
   "source": [
    "# from sklearn.ensemble import BaggingRegressor\n",
    "# #lr = LinearRegression()\n",
    "# svr_lin = SVR(kernel='linear')\n",
    "# ridge = Ridge(random_state=1)\n",
    "# svr_rbf = SVR(kernel='rbf')\n",
    "# bag = BaggingRegressor()\n",
    "params = {'colsample_bytree': 0.7,\n",
    " 'learning_rate': 0.07,\n",
    " 'max_depth': 7,\n",
    " 'min_child_weight': 4,\n",
    " 'n_estimators': 500,\n",
    " 'nthread': 4,\n",
    " 'objective': 'reg:linear',\n",
    " 'silent': 1,\n",
    " 'subsample': 0.7}\n",
    "xgb = XGBRegressor()#subsample=0.7, n_estimators=500, min_child_weight=4, max_depth=7, learning_rate=0.07, colsample_bytree=0.7)\n",
    "\n",
    "\n",
    "# from mlxtend.regressor import StackingRegressor\n",
    "# model = StackingRegressor(regressors=[svr_lin, lr, ridge], \n",
    "#                            meta_regressor=svr_rbf)\n",
    "\n",
    "parameters = {'nthread':[4], \n",
    "              'objective':['reg:linear'],\n",
    "              'learning_rate': [.03, 0.05, .07],\n",
    "              'max_depth': [5, 6, 7],\n",
    "              'min_child_weight': [4],\n",
    "              'silent': [1],\n",
    "              'subsample': [0.7],\n",
    "              'colsample_bytree': [0.7],\n",
    "              'n_estimators': [500]}\n",
    "\n",
    "# model = GridSearchCV(xgb,\n",
    "#                         parameters,\n",
    "#                         cv = 2,\n",
    "#                         n_jobs = 5,\n",
    "#                         verbose=True)\n",
    "\n",
    "\n",
    "model = xgb\n",
    "model.fit(X_train, y_train)\n",
    "model.best_score_\n",
    "model.best_params_"
   ]
  },
  {
   "cell_type": "code",
   "execution_count": null,
   "metadata": {},
   "outputs": [],
   "source": [
    "X_val = X_val.reset_index(drop=True)\n",
    "y_pred = model.predict(X_val)\n",
    "metrics.mean_squared_error(y_val, y_pred)\n",
    "#X_valm = X_val.as_matrix()"
   ]
  },
  {
   "cell_type": "code",
   "execution_count": null,
   "metadata": {},
   "outputs": [],
   "source": [
    "#X_train_full.columns\n",
    "#X_train_full = X_train_full.reset_index(drop=True)\n",
    "#X_train_full[X_train_full['Junction=%d'%1]==1].tail(1)['Vehicles'].values[0]\n",
    "#X_train_full\n",
    "X_train.columns"
   ]
  },
  {
   "cell_type": "code",
   "execution_count": null,
   "metadata": {},
   "outputs": [],
   "source": [
    "X_test['Vehicles'] = np.zeros(X_test.shape[0])"
   ]
  },
  {
   "cell_type": "code",
   "execution_count": null,
   "metadata": {},
   "outputs": [],
   "source": [
    "#ntrain = X_train_full.shape[0]\n",
    "ntest = X_test.shape[0]\n",
    "#X_train_fulls = X_train_full.append(X_test, ignore_index=True).reset_index(drop=True)\n",
    "X_train_full.dropna(inplace=True)\n",
    "X_train_full = X_train_full.reset_index(drop=True)\n",
    "#print(X_train_full.ix[0])"
   ]
  },
  {
   "cell_type": "code",
   "execution_count": null,
   "metadata": {},
   "outputs": [],
   "source": [
    "X_train_full.columns"
   ]
  },
  {
   "cell_type": "code",
   "execution_count": null,
   "metadata": {},
   "outputs": [],
   "source": [
    "#X_test = X_test\n",
    "\n",
    "#def window_predict():\n",
    "res = pd.DataFrame()\n",
    "lst = list()\n",
    "#for i in range(ntrain, ntrain+ntest):\n",
    "for i in range(ntest):\n",
    "    #dd = pd.DataFrame(X_train_fulls[i]).T\n",
    "    dd = pd.DataFrame(X_test.ix[i]).T\n",
    "    dd.columns = X_test.columns\n",
    "    #dd.fillna(method='ffill')\n",
    "    J = 0\n",
    "    for j in range(1,5):\n",
    "        if dd['Junction=%d'%j].values[0]==1:\n",
    "            J = j\n",
    "            break\n",
    "    dd.ix[0, 'Vehicles'] = X_train_full[X_train_full['Junction=%d'%J]==1].tail(1)['Vehicles'].values[0]\n",
    "    #dd = pd.DataFrame(dd)\n",
    "    #print(dd)\n",
    "    ddd = X_train_full.append(dd, ignore_index=True)\n",
    "    #merge_features(dd, window_features(dd))\n",
    "    #print(ddd[ddd['Junction=%d'%J]==1])\n",
    "#     print(pd.isnull(ddd).any(1).nonzero()[0])\n",
    "#     print(ddd.shape)\n",
    "    #print(ddd[ddd['Junction=%d'%J]==1].shape)\n",
    "    #print(window_features(ddd[ddd['Junction=%d'%J]==1]))\n",
    "    merge_features(ddd, window_features(ddd[ddd['Junction=%d'%J]==1]))\n",
    "    ddd.dropna(inplace=True)\n",
    "    ddd = ddd[ddd.columns.difference(['quarter', 'month', 'week', 'dayofyear', 'hour', 's_min', 's_max'])]\n",
    "    cat_cols = list(set(ddd.columns.tolist())-set(num_cols))\n",
    "    \n",
    "    ddd = pd.DataFrame(scaler.transform(ddd[num_cols]), columns=num_cols).join(ddd[cat_cols].sort_index(axis=1))\n",
    "    #dd.ix[0, 'Vehicles'] =\n",
    "    dd = ddd.tail(1).drop('Vehicles', axis=1)\n",
    "    lst.append(model.predict(dd))\n",
    "    \n",
    "# df_test = pd.read_csv('test_BdBKkAj.csv')\n",
    "# df_test\n",
    "# model.predict(X_val)\n",
    "#pd.DataFrame(X_val.ix[0]).T\n",
    "\n",
    "\n",
    "#df.groupby('Junction').apply(window_predict)"
   ]
  },
  {
   "cell_type": "code",
   "execution_count": null,
   "metadata": {},
   "outputs": [],
   "source": [
    "pd.Series([l[0] for l in lst]).values.round().astype('int')"
   ]
  },
  {
   "cell_type": "code",
   "execution_count": null,
   "metadata": {},
   "outputs": [],
   "source": [
    "X_test_Id['Vehicles'] = model.predict(X_test).round().astype('int')\n",
    "#X_test_Id['Vehicles'] = pd.Series([l[0] for l in lst]).values.round().astype('int')\n",
    "X_test_Id.to_csv('remove_corr.csv', index=False)"
   ]
  }
 ],
 "metadata": {
  "kernelspec": {
   "display_name": "Python 3",
   "language": "python",
   "name": "python3"
  },
  "language_info": {
   "codemirror_mode": {
    "name": "ipython",
    "version": 3
   },
   "file_extension": ".py",
   "mimetype": "text/x-python",
   "name": "python",
   "nbconvert_exporter": "python",
   "pygments_lexer": "ipython3",
   "version": "3.6.2"
  }
 },
 "nbformat": 4,
 "nbformat_minor": 2
}
